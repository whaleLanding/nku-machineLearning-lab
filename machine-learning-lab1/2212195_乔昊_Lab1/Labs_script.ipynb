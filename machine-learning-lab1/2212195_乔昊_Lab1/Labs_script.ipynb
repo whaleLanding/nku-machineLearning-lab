{
 "cells": [
  {
   "cell_type": "code",
   "execution_count": 4,
   "id": "087064bd-103c-4b7a-9bcc-24071f19fd6a",
   "metadata": {},
   "outputs": [
    {
     "name": "stdout",
     "output_type": "stream",
     "text": [
      "(97, 2) 2\n"
     ]
    }
   ],
   "source": [
    "import numpy as np\n",
    "import matplotlib.pyplot as plt\n",
    "data1 = np.loadtxt(\"D:\\machine-learning-lab1\\ex1data1.txt\",delimiter=\",\")\n",
    "print(data1.shape,data1.ndim)"
   ]
  },
  {
   "cell_type": "code",
   "execution_count": 5,
   "id": "cf706ff0-18cb-47c9-b32a-dc26b0e4dae3",
   "metadata": {},
   "outputs": [
    {
     "name": "stdout",
     "output_type": "stream",
     "text": [
      "(97,) 1\n"
     ]
    }
   ],
   "source": [
    "x=data1[:,0]\n",
    "y=data1[:,1]\n",
    "print(x.shape,x.ndim)"
   ]
  },
  {
   "cell_type": "code",
   "execution_count": 6,
   "id": "d744efd1-3bb8-42a6-864e-b0c17b53d128",
   "metadata": {},
   "outputs": [
    {
     "data": {
      "image/png": "[encoded data removed]",
      "text/plain": [
       "<Figure size 640x480 with 1 Axes>"
      ]
     },
     "metadata": {},
     "output_type": "display_data"
    }
   ],
   "source": [
    "plt.xlabel('Population of City in 10000s')\n",
    "plt.ylabel('Profit in $10000s')\n",
    "plt.plot(x,y,'+b')\n",
    "plt.show()"
   ]
  },
  {
   "cell_type": "code",
   "execution_count": 7,
   "id": "f89de242-de9b-42b7-a835-7cc9366c722b",
   "metadata": {},
   "outputs": [
    {
     "name": "stdout",
     "output_type": "stream",
     "text": [
      "[[ 1.      6.1101]\n",
      " [ 1.      5.5277]\n",
      " [ 1.      8.5186]\n",
      " [ 1.      7.0032]\n",
      " [ 1.      5.8598]\n",
      " [ 1.      8.3829]\n",
      " [ 1.      7.4764]\n",
      " [ 1.      8.5781]\n",
      " [ 1.      6.4862]\n",
      " [ 1.      5.0546]\n",
      " [ 1.      5.7107]\n",
      " [ 1.     14.164 ]\n",
      " [ 1.      5.734 ]\n",
      " [ 1.      8.4084]\n",
      " [ 1.      5.6407]\n",
      " [ 1.      5.3794]\n",
      " [ 1.      6.3654]\n",
      " [ 1.      5.1301]\n",
      " [ 1.      6.4296]\n",
      " [ 1.      7.0708]\n",
      " [ 1.      6.1891]\n",
      " [ 1.     20.27  ]\n",
      " [ 1.      5.4901]\n",
      " [ 1.      6.3261]\n",
      " [ 1.      5.5649]\n",
      " [ 1.     18.945 ]\n",
      " [ 1.     12.828 ]\n",
      " [ 1.     10.957 ]\n",
      " [ 1.     13.176 ]\n",
      " [ 1.     22.203 ]\n",
      " [ 1.      5.2524]\n",
      " [ 1.      6.5894]\n",
      " [ 1.      9.2482]\n",
      " [ 1.      5.8918]\n",
      " [ 1.      8.2111]\n",
      " [ 1.      7.9334]\n",
      " [ 1.      8.0959]\n",
      " [ 1.      5.6063]\n",
      " [ 1.     12.836 ]\n",
      " [ 1.      6.3534]\n",
      " [ 1.      5.4069]\n",
      " [ 1.      6.8825]\n",
      " [ 1.     11.708 ]\n",
      " [ 1.      5.7737]\n",
      " [ 1.      7.8247]\n",
      " [ 1.      7.0931]\n",
      " [ 1.      5.0702]\n",
      " [ 1.      5.8014]\n",
      " [ 1.     11.7   ]\n",
      " [ 1.      5.5416]\n",
      " [ 1.      7.5402]\n",
      " [ 1.      5.3077]\n",
      " [ 1.      7.4239]\n",
      " [ 1.      7.6031]\n",
      " [ 1.      6.3328]\n",
      " [ 1.      6.3589]\n",
      " [ 1.      6.2742]\n",
      " [ 1.      5.6397]\n",
      " [ 1.      9.3102]\n",
      " [ 1.      9.4536]\n",
      " [ 1.      8.8254]\n",
      " [ 1.      5.1793]\n",
      " [ 1.     21.279 ]\n",
      " [ 1.     14.908 ]\n",
      " [ 1.     18.959 ]\n",
      " [ 1.      7.2182]\n",
      " [ 1.      8.2951]\n",
      " [ 1.     10.236 ]\n",
      " [ 1.      5.4994]\n",
      " [ 1.     20.341 ]\n",
      " [ 1.     10.136 ]\n",
      " [ 1.      7.3345]\n",
      " [ 1.      6.0062]\n",
      " [ 1.      7.2259]\n",
      " [ 1.      5.0269]\n",
      " [ 1.      6.5479]\n",
      " [ 1.      7.5386]\n",
      " [ 1.      5.0365]\n",
      " [ 1.     10.274 ]\n",
      " [ 1.      5.1077]\n",
      " [ 1.      5.7292]\n",
      " [ 1.      5.1884]\n",
      " [ 1.      6.3557]\n",
      " [ 1.      9.7687]\n",
      " [ 1.      6.5159]\n",
      " [ 1.      8.5172]\n",
      " [ 1.      9.1802]\n",
      " [ 1.      6.002 ]\n",
      " [ 1.      5.5204]\n",
      " [ 1.      5.0594]\n",
      " [ 1.      5.7077]\n",
      " [ 1.      7.6366]\n",
      " [ 1.      5.8707]\n",
      " [ 1.      5.3054]\n",
      " [ 1.      8.2934]\n",
      " [ 1.     13.394 ]\n",
      " [ 1.      5.4369]]\n",
      "[[0.]\n",
      " [0.]]\n"
     ]
    }
   ],
   "source": [
    "m=data1.shape[0]\n",
    "x0=np.ones((m,1))\n",
    "x1=data1[:,[0]]\n",
    "x=np.hstack((x0,x1))\n",
    "print(x)\n",
    "y=data1[:,[1]]\n",
    "theta=np.zeros((2,1))\n",
    "print(theta)"
   ]
  },
  {
   "cell_type": "code",
   "execution_count": 8,
   "id": "8bb3467f-ec1c-418b-b3d2-1ee54f09c349",
   "metadata": {},
   "outputs": [
    {
     "name": "stdout",
     "output_type": "stream",
     "text": [
      "32.072733877455676\n"
     ]
    }
   ],
   "source": [
    "def computeCost(X, y, theta):\n",
    "    h_theta_x=np.dot(X,theta)\n",
    "    error=h_theta_x-y\n",
    "    J = np.sum(error ** 2) / (2*m)\n",
    "    return J\n",
    "print(computeCost(x,y,theta))"
   ]
  },
  {
   "cell_type": "code",
   "execution_count": 13,
   "id": "2eabf78d-c3e9-4492-806d-bff08d07dd1b",
   "metadata": {},
   "outputs": [
    {
     "name": "stdout",
     "output_type": "stream",
     "text": [
      "[[-3.89578088]\n",
      " [ 1.19303364]]\n",
      "[[4.47697138]\n",
      " [4.47697138]\n",
      " [4.47697138]\n",
      " ...\n",
      " [4.47697138]\n",
      " [4.47697138]\n",
      " [4.47697138]]\n"
     ]
    }
   ],
   "source": [
    "# 梯度下降法\n",
    "def gradientDescent(X, y, theta, alpha, num_iters):\n",
    "    \n",
    "    J_history = np.zeros((num_iters, 1))\n",
    "    for i in range(num_iters):\n",
    "        h_theta_x=np.dot(X,theta) # X是97行，2列，theta是2行，1列\n",
    "        error=h_theta_x-y # 误差\n",
    "        J_history[i]=computeCost(X,y,theta) # 历史代价函数值\n",
    "        grad=np.dot(error.T,X)/m\n",
    "        theta=theta.T-alpha*grad\n",
    "        theta=theta.T\n",
    "    return theta,J_history\n",
    "\n",
    "theta_star, J_hist = gradientDescent(x, y, theta, 0.01, 1500)\n",
    "print(theta_star)\n",
    "print(J_hist)"
   ]
  },
  {
   "cell_type": "code",
   "execution_count": 14,
   "id": "27195742-ac07-412c-96d0-e0c8f64e9206",
   "metadata": {},
   "outputs": [
    {
     "name": "stdout",
     "output_type": "stream",
     "text": [
      "[2.06938734]\n",
      "[25.93006023]\n"
     ]
    }
   ],
   "source": [
    "x0=5.0\n",
    "y0=theta_star[0]+theta_star[1]*x0\n",
    "x1=25.0\n",
    "y1=theta_star[0]+theta_star[1]*x1\n",
    "print(y0)\n",
    "print(y1)"
   ]
  },
  {
   "cell_type": "code",
   "execution_count": 15,
   "id": "96f6c7b1-1bdf-4bf7-b5e1-b5d7d5c3c16d",
   "metadata": {},
   "outputs": [
    {
     "data": {
      "image/png": "[encoded data removed]",
      "text/plain": [
       "<Figure size 640x480 with 1 Axes>"
      ]
     },
     "metadata": {},
     "output_type": "display_data"
    }
   ],
   "source": [
    "plt.xlabel('Population of City in 10000s')\n",
    "plt.ylabel('Profit in $10000s')\n",
    "plt.plot((x0, x1), (y0, y1))\n",
    "plt.scatter(data1[:,0],data1[:,1],color='red',marker='+')\n",
    "plt.show()"
   ]
  },
  {
   "cell_type": "code",
   "execution_count": 12,
   "id": "75795f2b-bdab-4a3d-b99d-f5f26369f7a5",
   "metadata": {},
   "outputs": [
    {
     "name": "stdout",
     "output_type": "stream",
     "text": [
      "[[-3.89578088]\n",
      " [ 1.19303364]]\n"
     ]
    }
   ],
   "source": [
    "# 优化求导法\n",
    "T=np.dot(x.T,x)\n",
    "x_reverse=np.linalg.inv(T)\n",
    "var=np.dot(x_reverse,x.T)\n",
    "theta=np.dot(var,y)\n",
    "print(theta)"
   ]
  }
 ],
 "metadata": {
  "kernelspec": {
   "display_name": "Python 3 (ipykernel)",
   "language": "python",
   "name": "python3"
  },
  "language_info": {
   "codemirror_mode": {
    "name": "ipython",
    "version": 3
   },
   "file_extension": ".py",
   "mimetype": "text/x-python",
   "name": "python",
   "nbconvert_exporter": "python",
   "pygments_lexer": "ipython3",
   "version": "3.11.7"
  }
 },
 "nbformat": 4,
 "nbformat_minor": 5
}
